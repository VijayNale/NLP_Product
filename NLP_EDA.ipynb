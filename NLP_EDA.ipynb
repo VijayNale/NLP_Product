{
 "cells": [
  {
   "cell_type": "code",
   "execution_count": 0,
   "metadata": {
    "colab": {},
    "colab_type": "code",
    "id": "SNBXdWd9Ld5E"
   },
   "outputs": [],
   "source": [
    "import pandas as pd\n",
    "from google.colab import files"
   ]
  },
  {
   "cell_type": "code",
   "execution_count": 2,
   "metadata": {
    "colab": {
     "base_uri": "https://localhost:8080/",
     "height": 34
    },
    "colab_type": "code",
    "executionInfo": {
     "elapsed": 4083,
     "status": "ok",
     "timestamp": 1569848775746,
     "user": {
      "displayName": "vijay nale",
      "photoUrl": "https://lh3.googleusercontent.com/a-/AAuE7mAOFfwXnCr17APjZS6DRd0DCtAxmLFlZhg5u_wp=s64",
      "userId": "11790652842520591463"
     },
     "user_tz": -330
    },
    "id": "ec4VHN92LdDu",
    "outputId": "1bd9fb26-c4ff-417d-9321-74bf65e2fa05"
   },
   "outputs": [
    {
     "data": {
      "text/plain": [
       "'/device:GPU:0'"
      ]
     },
     "execution_count": 2,
     "metadata": {
      "tags": []
     },
     "output_type": "execute_result"
    }
   ],
   "source": [
    "import tensorflow as tf\n",
    "tf.test.gpu_device_name()"
   ]
  },
  {
   "cell_type": "code",
   "execution_count": 3,
   "metadata": {
    "colab": {
     "base_uri": "https://localhost:8080/",
     "height": 121
    },
    "colab_type": "code",
    "executionInfo": {
     "elapsed": 40425,
     "status": "ok",
     "timestamp": 1569848829515,
     "user": {
      "displayName": "vijay nale",
      "photoUrl": "https://lh3.googleusercontent.com/a-/AAuE7mAOFfwXnCr17APjZS6DRd0DCtAxmLFlZhg5u_wp=s64",
      "userId": "11790652842520591463"
     },
     "user_tz": -330
    },
    "id": "hpAnpotML5Mg",
    "outputId": "1a59532e-19c0-4283-ef91-334005d1e005"
   },
   "outputs": [
    {
     "name": "stdout",
     "output_type": "stream",
     "text": [
      "Go to this URL in a browser: https://accounts.google.com/o/oauth2/auth?client_id=947318989803-6bn6qk8qdgf4n4g3pfee6491hc0brc4i.apps.googleusercontent.com&redirect_uri=urn%3Aietf%3Awg%3Aoauth%3A2.0%3Aoob&scope=email%20https%3A%2F%2Fwww.googleapis.com%2Fauth%2Fdocs.test%20https%3A%2F%2Fwww.googleapis.com%2Fauth%2Fdrive%20https%3A%2F%2Fwww.googleapis.com%2Fauth%2Fdrive.photos.readonly%20https%3A%2F%2Fwww.googleapis.com%2Fauth%2Fpeopleapi.readonly&response_type=code\n",
      "\n",
      "Enter your authorization code:\n",
      "··········\n",
      "Mounted at /content/drive\n"
     ]
    }
   ],
   "source": [
    "from google.colab import drive\n",
    "drive.mount('/content/drive')"
   ]
  },
  {
   "cell_type": "code",
   "execution_count": 4,
   "metadata": {
    "colab": {
     "base_uri": "https://localhost:8080/",
     "height": 279
    },
    "colab_type": "code",
    "executionInfo": {
     "elapsed": 4870,
     "status": "ok",
     "timestamp": 1569848838423,
     "user": {
      "displayName": "vijay nale",
      "photoUrl": "https://lh3.googleusercontent.com/a-/AAuE7mAOFfwXnCr17APjZS6DRd0DCtAxmLFlZhg5u_wp=s64",
      "userId": "11790652842520591463"
     },
     "user_tz": -330
    },
    "id": "OFpuzk0zLMbX",
    "outputId": "9ab9f0ff-2b3c-43a2-b017-26a0056c036f"
   },
   "outputs": [
    {
     "data": {
      "text/html": [
       "<div>\n",
       "<style scoped>\n",
       "    .dataframe tbody tr th:only-of-type {\n",
       "        vertical-align: middle;\n",
       "    }\n",
       "\n",
       "    .dataframe tbody tr th {\n",
       "        vertical-align: top;\n",
       "    }\n",
       "\n",
       "    .dataframe thead th {\n",
       "        text-align: right;\n",
       "    }\n",
       "</style>\n",
       "<table border=\"1\" class=\"dataframe\">\n",
       "  <thead>\n",
       "    <tr style=\"text-align: right;\">\n",
       "      <th></th>\n",
       "      <th>Unnamed: 0</th>\n",
       "      <th>answer</th>\n",
       "      <th>answerTime</th>\n",
       "      <th>answerType</th>\n",
       "      <th>asin</th>\n",
       "      <th>question</th>\n",
       "      <th>questionType</th>\n",
       "      <th>unixTime</th>\n",
       "    </tr>\n",
       "  </thead>\n",
       "  <tbody>\n",
       "    <tr>\n",
       "      <th>0</th>\n",
       "      <td>0</td>\n",
       "      <td>Yes this fits both the nook color and the same...</td>\n",
       "      <td>Dec 27, 2013</td>\n",
       "      <td>Y</td>\n",
       "      <td>0594033926</td>\n",
       "      <td>Is this cover the one that fits the old nook c...</td>\n",
       "      <td>yes/no</td>\n",
       "      <td>1.388131e+09</td>\n",
       "    </tr>\n",
       "    <tr>\n",
       "      <th>1</th>\n",
       "      <td>1</td>\n",
       "      <td>No. The nook color or color tablet</td>\n",
       "      <td>Jan 5, 2015</td>\n",
       "      <td>N</td>\n",
       "      <td>0594033926</td>\n",
       "      <td>Does it fit Nook GlowLight?</td>\n",
       "      <td>yes/no</td>\n",
       "      <td>1.420445e+09</td>\n",
       "    </tr>\n",
       "    <tr>\n",
       "      <th>2</th>\n",
       "      <td>2</td>\n",
       "      <td>I don't think so. The nook color is 5 x 8 so n...</td>\n",
       "      <td>2 days ago</td>\n",
       "      <td>NaN</td>\n",
       "      <td>0594033926</td>\n",
       "      <td>Would it fit Nook 1st Edition? 4.9in x 7.7in ?</td>\n",
       "      <td>open-ended</td>\n",
       "      <td>NaN</td>\n",
       "    </tr>\n",
       "    <tr>\n",
       "      <th>3</th>\n",
       "      <td>3</td>\n",
       "      <td>yes</td>\n",
       "      <td>17 days ago</td>\n",
       "      <td>Y</td>\n",
       "      <td>0594033926</td>\n",
       "      <td>Will this fit a Nook Color that's 5 x 8?</td>\n",
       "      <td>yes/no</td>\n",
       "      <td>NaN</td>\n",
       "    </tr>\n",
       "    <tr>\n",
       "      <th>4</th>\n",
       "      <td>4</td>\n",
       "      <td>No, the tab is smaller than the 'color'</td>\n",
       "      <td>Feb 10, 2015</td>\n",
       "      <td>N</td>\n",
       "      <td>0594033926</td>\n",
       "      <td>will this fit the Samsung Galaxy Tab 4 Nook 10.1</td>\n",
       "      <td>yes/no</td>\n",
       "      <td>1.423555e+09</td>\n",
       "    </tr>\n",
       "  </tbody>\n",
       "</table>\n",
       "</div>"
      ],
      "text/plain": [
       "   Unnamed: 0  ...      unixTime\n",
       "0           0  ...  1.388131e+09\n",
       "1           1  ...  1.420445e+09\n",
       "2           2  ...           NaN\n",
       "3           3  ...           NaN\n",
       "4           4  ...  1.423555e+09\n",
       "\n",
       "[5 rows x 8 columns]"
      ]
     },
     "execution_count": 4,
     "metadata": {
      "tags": []
     },
     "output_type": "execute_result"
    }
   ],
   "source": [
    "import io\n",
    "path = \"/content/drive/My Drive/Colab Notebooks/kaggle comp/Data.csv\"\n",
    "data = pd.read_csv(path)\n",
    "#data = pd.read_csv(\"Data.csv\")\n",
    "#data = pd.read_csv(io.StringIO(uploaded['Data.csv'].decode('utf-8')))\n",
    "\n",
    "data.head()"
   ]
  },
  {
   "cell_type": "code",
   "execution_count": 5,
   "metadata": {
    "colab": {
     "base_uri": "https://localhost:8080/",
     "height": 252
    },
    "colab_type": "code",
    "executionInfo": {
     "elapsed": 1254,
     "status": "ok",
     "timestamp": 1569848840084,
     "user": {
      "displayName": "vijay nale",
      "photoUrl": "https://lh3.googleusercontent.com/a-/AAuE7mAOFfwXnCr17APjZS6DRd0DCtAxmLFlZhg5u_wp=s64",
      "userId": "11790652842520591463"
     },
     "user_tz": -330
    },
    "id": "CyqMZn2oLMbe",
    "outputId": "e167ea68-fb20-43b2-b16b-7df5b7b5e176"
   },
   "outputs": [
    {
     "name": "stdout",
     "output_type": "stream",
     "text": [
      "<class 'pandas.core.frame.DataFrame'>\n",
      "RangeIndex: 314263 entries, 0 to 314262\n",
      "Data columns (total 8 columns):\n",
      "Unnamed: 0      314263 non-null int64\n",
      "answer          314231 non-null object\n",
      "answerTime      314263 non-null object\n",
      "answerType      165598 non-null object\n",
      "asin            314263 non-null object\n",
      "question        314263 non-null object\n",
      "questionType    314263 non-null object\n",
      "unixTime        304873 non-null float64\n",
      "dtypes: float64(1), int64(1), object(6)\n",
      "memory usage: 19.2+ MB\n",
      "None\n"
     ]
    }
   ],
   "source": [
    "print(data.info())"
   ]
  },
  {
   "cell_type": "markdown",
   "metadata": {
    "colab_type": "text",
    "id": "GrBXVFWVLMbl"
   },
   "source": [
    "## Misising values"
   ]
  },
  {
   "cell_type": "code",
   "execution_count": 6,
   "metadata": {
    "colab": {
     "base_uri": "https://localhost:8080/",
     "height": 168
    },
    "colab_type": "code",
    "executionInfo": {
     "elapsed": 1399,
     "status": "ok",
     "timestamp": 1569848861484,
     "user": {
      "displayName": "vijay nale",
      "photoUrl": "https://lh3.googleusercontent.com/a-/AAuE7mAOFfwXnCr17APjZS6DRd0DCtAxmLFlZhg5u_wp=s64",
      "userId": "11790652842520591463"
     },
     "user_tz": -330
    },
    "id": "z-rMgdBlLMbo",
    "outputId": "273fed4c-d913-4d54-e283-c8518640fb3c"
   },
   "outputs": [
    {
     "name": "stdout",
     "output_type": "stream",
     "text": [
      "Unnamed: 0           0\n",
      "answer              32\n",
      "answerTime           0\n",
      "answerType      148665\n",
      "asin                 0\n",
      "question             0\n",
      "questionType         0\n",
      "unixTime          9390\n",
      "dtype: int64\n"
     ]
    }
   ],
   "source": [
    "#messing values\n",
    "print(data.isnull().sum())\n",
    "#data.drop(columns =[\"answer\"], inplace = True) "
   ]
  },
  {
   "cell_type": "code",
   "execution_count": 7,
   "metadata": {
    "colab": {
     "base_uri": "https://localhost:8080/",
     "height": 101
    },
    "colab_type": "code",
    "executionInfo": {
     "elapsed": 934,
     "status": "ok",
     "timestamp": 1569848863427,
     "user": {
      "displayName": "vijay nale",
      "photoUrl": "https://lh3.googleusercontent.com/a-/AAuE7mAOFfwXnCr17APjZS6DRd0DCtAxmLFlZhg5u_wp=s64",
      "userId": "11790652842520591463"
     },
     "user_tz": -330
    },
    "id": "WIJ_7yd1LMbv",
    "outputId": "15ec46a6-9916-43e8-fa4f-b9da77cc4d2f"
   },
   "outputs": [
    {
     "name": "stdout",
     "output_type": "stream",
     "text": [
      "['Y' 'N' nan '?']\n",
      "?    78062\n",
      "Y    63726\n",
      "N    23810\n",
      "Name: answerType, dtype: int64\n"
     ]
    }
   ],
   "source": [
    "# unique values and thier counts : 'answerType' column\n",
    "print(data.answerType.unique())\n",
    "print(data.answerType.value_counts())\n",
    "#78062+63726+23810+148665"
   ]
  },
  {
   "cell_type": "code",
   "execution_count": 8,
   "metadata": {
    "colab": {
     "base_uri": "https://localhost:8080/",
     "height": 67
    },
    "colab_type": "code",
    "executionInfo": {
     "elapsed": 1323,
     "status": "ok",
     "timestamp": 1569848869463,
     "user": {
      "displayName": "vijay nale",
      "photoUrl": "https://lh3.googleusercontent.com/a-/AAuE7mAOFfwXnCr17APjZS6DRd0DCtAxmLFlZhg5u_wp=s64",
      "userId": "11790652842520591463"
     },
     "user_tz": -330
    },
    "id": "DbL7CgW6LMb0",
    "outputId": "3a0898b3-9e3c-442f-8b3d-48c5dfb710fd"
   },
   "outputs": [
    {
     "name": "stdout",
     "output_type": "stream",
     "text": [
      "yes/no        165598\n",
      "open-ended    148665\n",
      "Name: questionType, dtype: int64\n"
     ]
    }
   ],
   "source": [
    "print(data.questionType.value_counts())"
   ]
  },
  {
   "cell_type": "code",
   "execution_count": 9,
   "metadata": {
    "colab": {
     "base_uri": "https://localhost:8080/",
     "height": 195
    },
    "colab_type": "code",
    "executionInfo": {
     "elapsed": 1539,
     "status": "ok",
     "timestamp": 1569848872067,
     "user": {
      "displayName": "vijay nale",
      "photoUrl": "https://lh3.googleusercontent.com/a-/AAuE7mAOFfwXnCr17APjZS6DRd0DCtAxmLFlZhg5u_wp=s64",
      "userId": "11790652842520591463"
     },
     "user_tz": -330
    },
    "id": "UDAiavs5LMb9",
    "outputId": "255ae1e6-bc92-4754-eaf1-b7e8dc53064f"
   },
   "outputs": [
    {
     "data": {
      "text/html": [
       "<div>\n",
       "<style scoped>\n",
       "    .dataframe tbody tr th:only-of-type {\n",
       "        vertical-align: middle;\n",
       "    }\n",
       "\n",
       "    .dataframe tbody tr th {\n",
       "        vertical-align: top;\n",
       "    }\n",
       "\n",
       "    .dataframe thead th {\n",
       "        text-align: right;\n",
       "    }\n",
       "</style>\n",
       "<table border=\"1\" class=\"dataframe\">\n",
       "  <thead>\n",
       "    <tr style=\"text-align: right;\">\n",
       "      <th></th>\n",
       "      <th>answer</th>\n",
       "      <th>answerTime</th>\n",
       "      <th>answerType</th>\n",
       "      <th>question</th>\n",
       "      <th>questionType</th>\n",
       "    </tr>\n",
       "  </thead>\n",
       "  <tbody>\n",
       "    <tr>\n",
       "      <th>0</th>\n",
       "      <td>Yes this fits both the nook color and the same...</td>\n",
       "      <td>Dec 27, 2013</td>\n",
       "      <td>Y</td>\n",
       "      <td>Is this cover the one that fits the old nook c...</td>\n",
       "      <td>yes/no</td>\n",
       "    </tr>\n",
       "    <tr>\n",
       "      <th>1</th>\n",
       "      <td>No. The nook color or color tablet</td>\n",
       "      <td>Jan 5, 2015</td>\n",
       "      <td>N</td>\n",
       "      <td>Does it fit Nook GlowLight?</td>\n",
       "      <td>yes/no</td>\n",
       "    </tr>\n",
       "    <tr>\n",
       "      <th>2</th>\n",
       "      <td>I don't think so. The nook color is 5 x 8 so n...</td>\n",
       "      <td>2 days ago</td>\n",
       "      <td>NaN</td>\n",
       "      <td>Would it fit Nook 1st Edition? 4.9in x 7.7in ?</td>\n",
       "      <td>open-ended</td>\n",
       "    </tr>\n",
       "    <tr>\n",
       "      <th>3</th>\n",
       "      <td>yes</td>\n",
       "      <td>17 days ago</td>\n",
       "      <td>Y</td>\n",
       "      <td>Will this fit a Nook Color that's 5 x 8?</td>\n",
       "      <td>yes/no</td>\n",
       "    </tr>\n",
       "    <tr>\n",
       "      <th>4</th>\n",
       "      <td>No, the tab is smaller than the 'color'</td>\n",
       "      <td>Feb 10, 2015</td>\n",
       "      <td>N</td>\n",
       "      <td>will this fit the Samsung Galaxy Tab 4 Nook 10.1</td>\n",
       "      <td>yes/no</td>\n",
       "    </tr>\n",
       "  </tbody>\n",
       "</table>\n",
       "</div>"
      ],
      "text/plain": [
       "                                              answer  ... questionType\n",
       "0  Yes this fits both the nook color and the same...  ...       yes/no\n",
       "1                 No. The nook color or color tablet  ...       yes/no\n",
       "2  I don't think so. The nook color is 5 x 8 so n...  ...   open-ended\n",
       "3                                                yes  ...       yes/no\n",
       "4            No, the tab is smaller than the 'color'  ...       yes/no\n",
       "\n",
       "[5 rows x 5 columns]"
      ]
     },
     "execution_count": 9,
     "metadata": {
      "tags": []
     },
     "output_type": "execute_result"
    }
   ],
   "source": [
    "#Drop columns\n",
    "data.drop(['Unnamed: 0','asin','unixTime'], axis=1, inplace= True)\n",
    "data.head()"
   ]
  },
  {
   "cell_type": "code",
   "execution_count": 10,
   "metadata": {
    "colab": {
     "base_uri": "https://localhost:8080/",
     "height": 300
    },
    "colab_type": "code",
    "executionInfo": {
     "elapsed": 1536,
     "status": "ok",
     "timestamp": 1569848874810,
     "user": {
      "displayName": "vijay nale",
      "photoUrl": "https://lh3.googleusercontent.com/a-/AAuE7mAOFfwXnCr17APjZS6DRd0DCtAxmLFlZhg5u_wp=s64",
      "userId": "11790652842520591463"
     },
     "user_tz": -330
    },
    "id": "Dc2v_mwULMcB",
    "outputId": "a9ad0bb0-863c-428f-b9d6-ea4bed61b5c4"
   },
   "outputs": [
    {
     "data": {
      "text/plain": [
       "<matplotlib.axes._subplots.AxesSubplot at 0x7f90e018a4e0>"
      ]
     },
     "execution_count": 10,
     "metadata": {
      "tags": []
     },
     "output_type": "execute_result"
    },
    {
     "data": {
      "image/png": "[encoded data removed]",
      "text/plain": [
       "<Figure size 432x288 with 1 Axes>"
      ]
     },
     "metadata": {
      "tags": []
     },
     "output_type": "display_data"
    }
   ],
   "source": [
    "import seaborn as sns\n",
    "import matplotlib.pyplot as plt\n",
    "\n",
    "sns.countplot(x=\"questionType\" , data = data)"
   ]
  },
  {
   "cell_type": "code",
   "execution_count": 11,
   "metadata": {
    "colab": {
     "base_uri": "https://localhost:8080/",
     "height": 300
    },
    "colab_type": "code",
    "executionInfo": {
     "elapsed": 1817,
     "status": "ok",
     "timestamp": 1569848886200,
     "user": {
      "displayName": "vijay nale",
      "photoUrl": "https://lh3.googleusercontent.com/a-/AAuE7mAOFfwXnCr17APjZS6DRd0DCtAxmLFlZhg5u_wp=s64",
      "userId": "11790652842520591463"
     },
     "user_tz": -330
    },
    "id": "gO_opvpDLMcF",
    "outputId": "77de62bc-c89a-45d3-bc4d-e424c037ccad"
   },
   "outputs": [
    {
     "data": {
      "text/plain": [
       "<matplotlib.axes._subplots.AxesSubplot at 0x7f90dd531710>"
      ]
     },
     "execution_count": 11,
     "metadata": {
      "tags": []
     },
     "output_type": "execute_result"
    },
    {
     "data": {
      "image/png": "[encoded data removed]",
      "text/plain": [
       "<Figure size 432x288 with 1 Axes>"
      ]
     },
     "metadata": {
      "tags": []
     },
     "output_type": "display_data"
    }
   ],
   "source": [
    "#problem ? type of category around 80000 , nan has 148665 \n",
    "sns.countplot(x=\"answerType\" , data = data, palette = \"hls\")  "
   ]
  },
  {
   "cell_type": "markdown",
   "metadata": {
    "colab_type": "text",
    "id": "av2z8nl7LMcO"
   },
   "source": [
    "### Sentimate analysis worldcloud"
   ]
  },
  {
   "cell_type": "code",
   "execution_count": 0,
   "metadata": {
    "colab": {},
    "colab_type": "code",
    "id": "pfPf8GvrLMcS"
   },
   "outputs": [],
   "source": [
    "# answerType column\n",
    "t= []\n",
    "for i in range(len(data['answer'])):\n",
    "    t.append(data.iloc[i,0])\n",
    "    #print(i)\n",
    "answer = str(t)"
   ]
  },
  {
   "cell_type": "code",
   "execution_count": 45,
   "metadata": {
    "colab": {
     "base_uri": "https://localhost:8080/",
     "height": 34
    },
    "colab_type": "code",
    "executionInfo": {
     "elapsed": 1855,
     "status": "ok",
     "timestamp": 1569852918758,
     "user": {
      "displayName": "vijay nale",
      "photoUrl": "https://lh3.googleusercontent.com/a-/AAuE7mAOFfwXnCr17APjZS6DRd0DCtAxmLFlZhg5u_wp=s64",
      "userId": "11790652842520591463"
     },
     "user_tz": -330
    },
    "id": "l3XG0BMRhkqT",
    "outputId": "193e7b65-0dd9-4780-dfee-41d216d0f0e8"
   },
   "outputs": [
    {
     "data": {
      "text/plain": [
       "\"'Yes this fits both the nook color and the same-shaped nook tablet', 'No. The nook color or color t\""
      ]
     },
     "execution_count": 45,
     "metadata": {
      "tags": []
     },
     "output_type": "execute_result"
    }
   ],
   "source": [
    "answer[1:100]"
   ]
  },
  {
   "cell_type": "code",
   "execution_count": 0,
   "metadata": {
    "colab": {},
    "colab_type": "code",
    "id": "vTAKZ0CPLMcZ"
   },
   "outputs": [],
   "source": [
    "with open(\"answer.txt\",\"w\",encoding='utf8') as output:\n",
    "    output.write(str(answer))"
   ]
  },
  {
   "cell_type": "code",
   "execution_count": 28,
   "metadata": {
    "colab": {
     "base_uri": "https://localhost:8080/",
     "height": 104
    },
    "colab_type": "code",
    "executionInfo": {
     "elapsed": 3268,
     "status": "ok",
     "timestamp": 1569849809664,
     "user": {
      "displayName": "vijay nale",
      "photoUrl": "https://lh3.googleusercontent.com/a-/AAuE7mAOFfwXnCr17APjZS6DRd0DCtAxmLFlZhg5u_wp=s64",
      "userId": "11790652842520591463"
     },
     "user_tz": -330
    },
    "id": "r5Ai5bi4LMcd",
    "outputId": "702f9659-0284-4d11-cfdb-f776700996da"
   },
   "outputs": [
    {
     "name": "stdout",
     "output_type": "stream",
     "text": [
      "yes this fits both the nook color and the same shaped nook tablet   no. the nook color or color tablet   i don t think so. the nook color is 5 x 8 so not sure anything smaller would stay locked in  but would be close.   yes   no  the tab is smaller than the  color   no  there is not a flip stand. it has a pocket in the front flap. it is a very nice cover.   hi  no it doesn t   it should. they are the same size and the charging port is in the same place.   yes   no  it is more like a normal book\n",
      "\n",
      " <class 'str'>\n"
     ]
    },
    {
     "data": {
      "text/plain": [
       "(None, None)"
      ]
     },
     "execution_count": 28,
     "metadata": {
      "tags": []
     },
     "output_type": "execute_result"
    }
   ],
   "source": [
    "# Cleaning our text , convert into lower text\n",
    "import re\n",
    "answer = re.sub(\"[^A-Za-z0-9\\n. \" \"]+\",\" \",answer)\n",
    "answer = answer.lower()\n",
    "print(answer[1:500]) , print('\\n',type(answer))"
   ]
  },
  {
   "cell_type": "markdown",
   "metadata": {
    "colab_type": "text",
    "id": "_MyxLN2fLMcg"
   },
   "source": [
    "### Do lemmatization : meaning of word important for our analysis (question & answer appl)"
   ]
  },
  {
   "cell_type": "code",
   "execution_count": 15,
   "metadata": {
    "colab": {
     "base_uri": "https://localhost:8080/",
     "height": 134
    },
    "colab_type": "code",
    "executionInfo": {
     "elapsed": 3351,
     "status": "ok",
     "timestamp": 1569848910806,
     "user": {
      "displayName": "vijay nale",
      "photoUrl": "https://lh3.googleusercontent.com/a-/AAuE7mAOFfwXnCr17APjZS6DRd0DCtAxmLFlZhg5u_wp=s64",
      "userId": "11790652842520591463"
     },
     "user_tz": -330
    },
    "id": "zd0-faKILMco",
    "outputId": "a3838556-7c22-4a2a-e087-9b68f1dccb86"
   },
   "outputs": [
    {
     "name": "stdout",
     "output_type": "stream",
     "text": [
      "[nltk_data] Downloading package punkt to /root/nltk_data...\n",
      "[nltk_data]   Unzipping tokenizers/punkt.zip.\n",
      "[nltk_data] Downloading package wordnet to /root/nltk_data...\n",
      "[nltk_data]   Unzipping corpora/wordnet.zip.\n",
      "[nltk_data] Downloading package stopwords to /root/nltk_data...\n",
      "[nltk_data]   Unzipping corpora/stopwords.zip.\n"
     ]
    },
    {
     "data": {
      "text/plain": [
       "True"
      ]
     },
     "execution_count": 15,
     "metadata": {
      "tags": []
     },
     "output_type": "execute_result"
    }
   ],
   "source": [
    "import nltk\n",
    "nltk.download('punkt')\n",
    "nltk.download('wordnet')\n",
    "nltk.download('stopwords')"
   ]
  },
  {
   "cell_type": "code",
   "execution_count": 0,
   "metadata": {
    "colab": {},
    "colab_type": "code",
    "id": "laH5V7KLLMci"
   },
   "outputs": [],
   "source": [
    "import nltk\n",
    "from nltk.corpus import stopwords\n",
    "from wordcloud import WordCloud\n",
    "from nltk.stem import WordNetLemmatizer  \n",
    "\n",
    "sentence = nltk.sent_tokenize(answer)\n",
    "lemmatizer = WordNetLemmatizer()"
   ]
  },
  {
   "cell_type": "code",
   "execution_count": 36,
   "metadata": {
    "colab": {
     "base_uri": "https://localhost:8080/",
     "height": 34
    },
    "colab_type": "code",
    "executionInfo": {
     "elapsed": 1349,
     "status": "ok",
     "timestamp": 1569850063397,
     "user": {
      "displayName": "vijay nale",
      "photoUrl": "https://lh3.googleusercontent.com/a-/AAuE7mAOFfwXnCr17APjZS6DRd0DCtAxmLFlZhg5u_wp=s64",
      "userId": "11790652842520591463"
     },
     "user_tz": -330
    },
    "id": "OIegC_U6VQxr",
    "outputId": "50a5a1ef-4833-4679-b446-4f05f6bfb07c"
   },
   "outputs": [
    {
     "data": {
      "text/plain": [
       "624935"
      ]
     },
     "execution_count": 36,
     "metadata": {
      "tags": []
     },
     "output_type": "execute_result"
    }
   ],
   "source": [
    "type(sentence)\n",
    "sentence[1:5]\n",
    "len(sentence)"
   ]
  },
  {
   "cell_type": "code",
   "execution_count": 0,
   "metadata": {
    "colab": {},
    "colab_type": "code",
    "id": "uIGyrU-HSewI"
   },
   "outputs": [],
   "source": [
    "#lemmatizer \n",
    "for i in range(len(sentence)):\n",
    "    words = nltk.word_tokenize(sentence[i])  #converting into word\n",
    "    words = [lemmatizer.lemmatize(word) for word in words if word not in set(stopwords.words('english')) ]\n",
    "    sentence[i] = ' '.join(words)"
   ]
  },
  {
   "cell_type": "code",
   "execution_count": 43,
   "metadata": {
    "colab": {
     "base_uri": "https://localhost:8080/",
     "height": 168
    },
    "colab_type": "code",
    "executionInfo": {
     "elapsed": 2616,
     "status": "ok",
     "timestamp": 1569852381183,
     "user": {
      "displayName": "vijay nale",
      "photoUrl": "https://lh3.googleusercontent.com/a-/AAuE7mAOFfwXnCr17APjZS6DRd0DCtAxmLFlZhg5u_wp=s64",
      "userId": "11790652842520591463"
     },
     "user_tz": -330
    },
    "id": "xhWlCrMmeqy7",
    "outputId": "ecab7c67-c57c-46c6-818e-72519cc48bc4"
   },
   "outputs": [
    {
     "data": {
      "text/plain": [
       "['nook color color tablet think .',\n",
       " 'nook color 5 x 8 sure anything smaller would stay locked would close .',\n",
       " 'yes tab smaller color flip stand .',\n",
       " 'pocket front flap .',\n",
       " 'nice cover .',\n",
       " 'hi .',\n",
       " 'size charging port place .',\n",
       " 'yes like normal book would .',\n",
       " 'flop open never wen issue .']"
      ]
     },
     "execution_count": 43,
     "metadata": {
      "tags": []
     },
     "output_type": "execute_result"
    }
   ],
   "source": [
    "sentence[1:10]"
   ]
  },
  {
   "cell_type": "code",
   "execution_count": 0,
   "metadata": {
    "colab": {},
    "colab_type": "code",
    "id": "o6u5vOOwLMcs"
   },
   "outputs": [],
   "source": [
    "# Joinining all the answer into single \n",
    "new_answer = ' '.join(sentence)"
   ]
  },
  {
   "cell_type": "code",
   "execution_count": 40,
   "metadata": {
    "colab": {
     "base_uri": "https://localhost:8080/",
     "height": 54
    },
    "colab_type": "code",
    "executionInfo": {
     "elapsed": 1493,
     "status": "ok",
     "timestamp": 1569852225787,
     "user": {
      "displayName": "vijay nale",
      "photoUrl": "https://lh3.googleusercontent.com/a-/AAuE7mAOFfwXnCr17APjZS6DRd0DCtAxmLFlZhg5u_wp=s64",
      "userId": "11790652842520591463"
     },
     "user_tz": -330
    },
    "id": "QhUR5QY2e8Ex",
    "outputId": "59f3b08a-cce7-4cca-8a5f-270735089f2b"
   },
   "outputs": [
    {
     "data": {
      "text/plain": [
       "'es fit nook color shaped nook tablet . nook color color tablet think . nook color 5 x 8 sure anything smaller would stay locked would close . yes tab smaller color flip stand . pocket front flap . nice cover . hi . size charging port place . yes like normal book would . flop open never wen issue . nook clip secure safe holder inside small convenient . best cover ever nook trim functional magnet elastic needed . 18 inch tv . yes need sound bar mount . 200mm x200mm . yes fully extended wall tv su'"
      ]
     },
     "execution_count": 40,
     "metadata": {
      "tags": []
     },
     "output_type": "execute_result"
    }
   ],
   "source": [
    "new_answer[1:500]"
   ]
  },
  {
   "cell_type": "code",
   "execution_count": 0,
   "metadata": {
    "colab": {},
    "colab_type": "code",
    "id": "9qvIjC06LMcy"
   },
   "outputs": [],
   "source": [
    "#nlWordNetLemmatizerownload('stopwords')\n",
    "#with open(\"stopwords.txt\",\"r\") as sw:\n",
    "#    stopwords = sw.read()\n",
    "#stopwords = stopwords.words('english')\n",
    "#answer = answer.split(\" \")\n",
    "#new_answer = [w for w in answer if not w in stopwords] \n",
    "# Joinining all the answer into single \n",
    "#new_answer = \" \".join(new_answer)\n",
    "# remaining to here also we lemitization/stemming "
   ]
  },
  {
   "cell_type": "code",
   "execution_count": 0,
   "metadata": {
    "colab": {},
    "colab_type": "code",
    "id": "E_4QPRfHfLr1"
   },
   "outputs": [],
   "source": [
    "with open(\"clean_answer.txt\",\"w\",encoding='utf8') as output:\n",
    "    output.write(str(answer))"
   ]
  },
  {
   "cell_type": "code",
   "execution_count": 41,
   "metadata": {
    "colab": {
     "base_uri": "https://localhost:8080/",
     "height": 286
    },
    "colab_type": "code",
    "executionInfo": {
     "elapsed": 33057,
     "status": "ok",
     "timestamp": 1569852279026,
     "user": {
      "displayName": "vijay nale",
      "photoUrl": "https://lh3.googleusercontent.com/a-/AAuE7mAOFfwXnCr17APjZS6DRd0DCtAxmLFlZhg5u_wp=s64",
      "userId": "11790652842520591463"
     },
     "user_tz": -330
    },
    "id": "PH2LA6mhLMc5",
    "outputId": "39d0ecef-7379-4661-f0a9-0df1c1190088"
   },
   "outputs": [
    {
     "data": {
      "text/plain": [
       "<matplotlib.image.AxesImage at 0x7f90ab9f6d68>"
      ]
     },
     "execution_count": 41,
     "metadata": {
      "tags": []
     },
     "output_type": "execute_result"
    },
    {
     "data": {
      "image/png": "[encoded data removed]",
      "text/plain": [
       "<Figure size 432x288 with 1 Axes>"
      ]
     },
     "metadata": {
      "tags": []
     },
     "output_type": "display_data"
    }
   ],
   "source": [
    "wordcloud_ip = WordCloud(\n",
    "                      background_color='white',\n",
    "                      width=1800,\n",
    "                      height=1400\n",
    "                     ).generate(new_answer)\n",
    "plt.imshow(wordcloud_ip)"
   ]
  },
  {
   "cell_type": "markdown",
   "metadata": {
    "colab_type": "text",
    "id": "9SjbpOIBLMc-"
   },
   "source": [
    "### Inferance Those word in world cloud find in answer.txt file we get actual problem of that device\n",
    "### for eg : camera  \n",
    "- the device does not have a camera\n",
    "- The Nook isn't compatable with Skype, as it lacks both rear and front facing cameras\n",
    "- the operating system would need to have an appropriate driver to run the camera"
   ]
  },
  {
   "cell_type": "code",
   "execution_count": 0,
   "metadata": {
    "colab": {},
    "colab_type": "code",
    "id": "Vx2bSOSyLMc_"
   },
   "outputs": [],
   "source": [
    "for 'one' word \n",
    "\n",
    "=>There is a one year limited warranty that comes with the device, right out of the box. Beyond that, you can purchase extended warranties and more comprehensive protection plans.\n",
    "=>The Nook HD uses a proprietary cable. It comes with a cable and a USB charger but you can plug it into any USB charger. You don't have to use the one that comes with it. You do have to use the cable that comes with it. Barry\n",
    "=>Originally from factory is shipped with Android 4 but is locked. Is not pure Android. But you can easy install CyanogenMod Android 4.3 with all the benefits of 100% unlocked android. CyanogenMod is one of the best roms for smartphones and tablets. This nook runs very smooth you can play videos with 1080p resolution. Its grate.\n",
    "=>No, only the one cord for charging in the wall or on a computer. There is no case included. You have to purchase that separately. Amazon has better deals on cases than B&N.\n",
    "\n",
    "\n",
    "for word 'problem'\n",
    "=>It took less than 5 minutes to root (and that was mostly \"burning\" the bootable image to the SD card). There are NO disadvantages. If you ever have a problem, it\\'s quite easy to return the Nook Color to factory conditions (and therefor in-warranty status). A rooted Nook Color is just as fast as any other tablet running an 800 Mhz ARM processor, faster if you overclock it\n",
    "=>don't get it it sucks!!! It blacked out on me after about 30 days after I had all my information in there!! and it was from a second party! this is the only bad thing that I have had a problem with at Amazon!! I sent it back after numerous attempts to get a confirmation number\n",
    "=>The only little problem I found when reading for long time, is that because of the outside plastic it gets stuck on the hand and I have to change the position of reading every 15-20 minuts\n",
    "=>I suppose once I get the cover I asked, I could handle in another way and the problem won't come back. One very bad experience!! I purchased the cover on Barnes&Noble and because is going to Europe you cannot track it\n",
    "=>I don't think Google TV is the problem because it seemed to work well on the Sony device, and I never had a problem access Netflix on my Roku\n",
    "\n",
    "for word 'use'\n",
    "=>The important thing to remember is to use a DVI-D cable on the correct port of your video card. I have a GTX780 and there are two DVI ports so I had to research a bit.\n",
    "=>I would suggest setting the font size to 125 percent or 150 percent, otherwise there might be some readability issues. This does not work as well with Windows 7, but you can try it. I use mine for video editing, coding, general web-surfing, gaming, etc.\n"
   ]
  }
 ],
 "metadata": {
  "accelerator": "GPU",
  "colab": {
   "collapsed_sections": [],
   "name": "Copy of analysis-checkpoint.ipynb",
   "provenance": [
    {
     "file_id": "1rsTLBhO_eBiN-q8S41Q3y8Xo8qrdqN0w",
     "timestamp": 1569856173473
    }
   ],
   "toc_visible": true
  },
  "kernelspec": {
   "display_name": "Python 3",
   "language": "python",
   "name": "python3"
  },
  "language_info": {
   "codemirror_mode": {
    "name": "ipython",
    "version": 3
   },
   "file_extension": ".py",
   "mimetype": "text/x-python",
   "name": "python",
   "nbconvert_exporter": "python",
   "pygments_lexer": "ipython3",
   "version": "3.7.3"
  }
 },
 "nbformat": 4,
 "nbformat_minor": 1
}
