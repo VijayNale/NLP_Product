{
 "cells": [
  {
   "cell_type": "code",
   "execution_count": 17,
   "metadata": {},
   "outputs": [
    {
     "data": {
      "text/html": [
       "<div>\n",
       "<style scoped>\n",
       "    .dataframe tbody tr th:only-of-type {\n",
       "        vertical-align: middle;\n",
       "    }\n",
       "\n",
       "    .dataframe tbody tr th {\n",
       "        vertical-align: top;\n",
       "    }\n",
       "\n",
       "    .dataframe thead th {\n",
       "        text-align: right;\n",
       "    }\n",
       "</style>\n",
       "<table border=\"1\" class=\"dataframe\">\n",
       "  <thead>\n",
       "    <tr style=\"text-align: right;\">\n",
       "      <th></th>\n",
       "      <th>Unnamed: 0</th>\n",
       "      <th>answer</th>\n",
       "      <th>answerTime</th>\n",
       "      <th>answerType</th>\n",
       "      <th>asin</th>\n",
       "      <th>question</th>\n",
       "      <th>questionType</th>\n",
       "      <th>unixTime</th>\n",
       "    </tr>\n",
       "  </thead>\n",
       "  <tbody>\n",
       "    <tr>\n",
       "      <th>0</th>\n",
       "      <td>0</td>\n",
       "      <td>Yes this fits both the nook color and the same...</td>\n",
       "      <td>Dec 27, 2013</td>\n",
       "      <td>Y</td>\n",
       "      <td>0594033926</td>\n",
       "      <td>Is this cover the one that fits the old nook c...</td>\n",
       "      <td>yes/no</td>\n",
       "      <td>1.388131e+09</td>\n",
       "    </tr>\n",
       "    <tr>\n",
       "      <th>1</th>\n",
       "      <td>1</td>\n",
       "      <td>No. The nook color or color tablet</td>\n",
       "      <td>Jan 5, 2015</td>\n",
       "      <td>N</td>\n",
       "      <td>0594033926</td>\n",
       "      <td>Does it fit Nook GlowLight?</td>\n",
       "      <td>yes/no</td>\n",
       "      <td>1.420445e+09</td>\n",
       "    </tr>\n",
       "    <tr>\n",
       "      <th>2</th>\n",
       "      <td>2</td>\n",
       "      <td>I don't think so. The nook color is 5 x 8 so n...</td>\n",
       "      <td>2 days ago</td>\n",
       "      <td>NaN</td>\n",
       "      <td>0594033926</td>\n",
       "      <td>Would it fit Nook 1st Edition? 4.9in x 7.7in ?</td>\n",
       "      <td>open-ended</td>\n",
       "      <td>NaN</td>\n",
       "    </tr>\n",
       "    <tr>\n",
       "      <th>3</th>\n",
       "      <td>3</td>\n",
       "      <td>yes</td>\n",
       "      <td>17 days ago</td>\n",
       "      <td>Y</td>\n",
       "      <td>0594033926</td>\n",
       "      <td>Will this fit a Nook Color that's 5 x 8?</td>\n",
       "      <td>yes/no</td>\n",
       "      <td>NaN</td>\n",
       "    </tr>\n",
       "    <tr>\n",
       "      <th>4</th>\n",
       "      <td>4</td>\n",
       "      <td>No, the tab is smaller than the 'color'</td>\n",
       "      <td>Feb 10, 2015</td>\n",
       "      <td>N</td>\n",
       "      <td>0594033926</td>\n",
       "      <td>will this fit the Samsung Galaxy Tab 4 Nook 10.1</td>\n",
       "      <td>yes/no</td>\n",
       "      <td>1.423555e+09</td>\n",
       "    </tr>\n",
       "  </tbody>\n",
       "</table>\n",
       "</div>"
      ],
      "text/plain": [
       "   Unnamed: 0                                             answer  \\\n",
       "0           0  Yes this fits both the nook color and the same...   \n",
       "1           1                 No. The nook color or color tablet   \n",
       "2           2  I don't think so. The nook color is 5 x 8 so n...   \n",
       "3           3                                                yes   \n",
       "4           4            No, the tab is smaller than the 'color'   \n",
       "\n",
       "     answerTime answerType        asin  \\\n",
       "0  Dec 27, 2013          Y  0594033926   \n",
       "1   Jan 5, 2015          N  0594033926   \n",
       "2    2 days ago        NaN  0594033926   \n",
       "3   17 days ago          Y  0594033926   \n",
       "4  Feb 10, 2015          N  0594033926   \n",
       "\n",
       "                                            question questionType  \\\n",
       "0  Is this cover the one that fits the old nook c...       yes/no   \n",
       "1                        Does it fit Nook GlowLight?       yes/no   \n",
       "2     Would it fit Nook 1st Edition? 4.9in x 7.7in ?   open-ended   \n",
       "3           Will this fit a Nook Color that's 5 x 8?       yes/no   \n",
       "4   will this fit the Samsung Galaxy Tab 4 Nook 10.1       yes/no   \n",
       "\n",
       "       unixTime  \n",
       "0  1.388131e+09  \n",
       "1  1.420445e+09  \n",
       "2           NaN  \n",
       "3           NaN  \n",
       "4  1.423555e+09  "
      ]
     },
     "execution_count": 17,
     "metadata": {},
     "output_type": "execute_result"
    }
   ],
   "source": [
    "import pandas as pd\n",
    "\n",
    "data = pd.read_csv(\"Data.csv\")\n",
    "\n",
    "data.head()"
   ]
  },
  {
   "cell_type": "code",
   "execution_count": 4,
   "metadata": {},
   "outputs": [
    {
     "name": "stdout",
     "output_type": "stream",
     "text": [
      "<class 'pandas.core.frame.DataFrame'>\n",
      "RangeIndex: 314263 entries, 0 to 314262\n",
      "Data columns (total 8 columns):\n",
      "Unnamed: 0      314263 non-null int64\n",
      "answer          314231 non-null object\n",
      "answerTime      314263 non-null object\n",
      "answerType      165598 non-null object\n",
      "asin            314263 non-null object\n",
      "question        314263 non-null object\n",
      "questionType    314263 non-null object\n",
      "unixTime        304873 non-null float64\n",
      "dtypes: float64(1), int64(1), object(6)\n",
      "memory usage: 19.2+ MB\n",
      "None\n"
     ]
    }
   ],
   "source": [
    "print(data.info())"
   ]
  },
  {
   "cell_type": "markdown",
   "metadata": {},
   "source": [
    "#Misising values"
   ]
  },
  {
   "cell_type": "code",
   "execution_count": 5,
   "metadata": {},
   "outputs": [
    {
     "name": "stdout",
     "output_type": "stream",
     "text": [
      "Unnamed: 0           0\n",
      "answer              32\n",
      "answerTime           0\n",
      "answerType      148665\n",
      "asin                 0\n",
      "question             0\n",
      "questionType         0\n",
      "unixTime          9390\n",
      "dtype: int64\n"
     ]
    }
   ],
   "source": [
    "#messing values\n",
    "print(data.isnull().sum())\n",
    "#data.drop(columns =[\"answer\"], inplace = True) "
   ]
  },
  {
   "cell_type": "code",
   "execution_count": 8,
   "metadata": {},
   "outputs": [
    {
     "name": "stdout",
     "output_type": "stream",
     "text": [
      "['Y' 'N' nan '?']\n",
      "?    78062\n",
      "Y    63726\n",
      "N    23810\n",
      "Name: answerType, dtype: int64\n"
     ]
    }
   ],
   "source": [
    "# unique values and thier counts\n",
    "print(data.answerType.unique())\n",
    "print(data.answerType.value_counts())\n",
    "#78062+63726+23810+148665"
   ]
  },
  {
   "cell_type": "code",
   "execution_count": 9,
   "metadata": {},
   "outputs": [
    {
     "name": "stdout",
     "output_type": "stream",
     "text": [
      "yes/no        165598\n",
      "open-ended    148665\n",
      "Name: questionType, dtype: int64\n"
     ]
    }
   ],
   "source": [
    "print(data.questionType.value_counts())"
   ]
  },
  {
   "cell_type": "code",
   "execution_count": 18,
   "metadata": {},
   "outputs": [
    {
     "data": {
      "text/html": [
       "<div>\n",
       "<style scoped>\n",
       "    .dataframe tbody tr th:only-of-type {\n",
       "        vertical-align: middle;\n",
       "    }\n",
       "\n",
       "    .dataframe tbody tr th {\n",
       "        vertical-align: top;\n",
       "    }\n",
       "\n",
       "    .dataframe thead th {\n",
       "        text-align: right;\n",
       "    }\n",
       "</style>\n",
       "<table border=\"1\" class=\"dataframe\">\n",
       "  <thead>\n",
       "    <tr style=\"text-align: right;\">\n",
       "      <th></th>\n",
       "      <th>answer</th>\n",
       "      <th>answerTime</th>\n",
       "      <th>answerType</th>\n",
       "      <th>question</th>\n",
       "      <th>questionType</th>\n",
       "    </tr>\n",
       "  </thead>\n",
       "  <tbody>\n",
       "    <tr>\n",
       "      <th>0</th>\n",
       "      <td>Yes this fits both the nook color and the same...</td>\n",
       "      <td>Dec 27, 2013</td>\n",
       "      <td>Y</td>\n",
       "      <td>Is this cover the one that fits the old nook c...</td>\n",
       "      <td>yes/no</td>\n",
       "    </tr>\n",
       "    <tr>\n",
       "      <th>1</th>\n",
       "      <td>No. The nook color or color tablet</td>\n",
       "      <td>Jan 5, 2015</td>\n",
       "      <td>N</td>\n",
       "      <td>Does it fit Nook GlowLight?</td>\n",
       "      <td>yes/no</td>\n",
       "    </tr>\n",
       "    <tr>\n",
       "      <th>2</th>\n",
       "      <td>I don't think so. The nook color is 5 x 8 so n...</td>\n",
       "      <td>2 days ago</td>\n",
       "      <td>NaN</td>\n",
       "      <td>Would it fit Nook 1st Edition? 4.9in x 7.7in ?</td>\n",
       "      <td>open-ended</td>\n",
       "    </tr>\n",
       "    <tr>\n",
       "      <th>3</th>\n",
       "      <td>yes</td>\n",
       "      <td>17 days ago</td>\n",
       "      <td>Y</td>\n",
       "      <td>Will this fit a Nook Color that's 5 x 8?</td>\n",
       "      <td>yes/no</td>\n",
       "    </tr>\n",
       "    <tr>\n",
       "      <th>4</th>\n",
       "      <td>No, the tab is smaller than the 'color'</td>\n",
       "      <td>Feb 10, 2015</td>\n",
       "      <td>N</td>\n",
       "      <td>will this fit the Samsung Galaxy Tab 4 Nook 10.1</td>\n",
       "      <td>yes/no</td>\n",
       "    </tr>\n",
       "  </tbody>\n",
       "</table>\n",
       "</div>"
      ],
      "text/plain": [
       "                                              answer    answerTime answerType  \\\n",
       "0  Yes this fits both the nook color and the same...  Dec 27, 2013          Y   \n",
       "1                 No. The nook color or color tablet   Jan 5, 2015          N   \n",
       "2  I don't think so. The nook color is 5 x 8 so n...    2 days ago        NaN   \n",
       "3                                                yes   17 days ago          Y   \n",
       "4            No, the tab is smaller than the 'color'  Feb 10, 2015          N   \n",
       "\n",
       "                                            question questionType  \n",
       "0  Is this cover the one that fits the old nook c...       yes/no  \n",
       "1                        Does it fit Nook GlowLight?       yes/no  \n",
       "2     Would it fit Nook 1st Edition? 4.9in x 7.7in ?   open-ended  \n",
       "3           Will this fit a Nook Color that's 5 x 8?       yes/no  \n",
       "4   will this fit the Samsung Galaxy Tab 4 Nook 10.1       yes/no  "
      ]
     },
     "execution_count": 18,
     "metadata": {},
     "output_type": "execute_result"
    }
   ],
   "source": [
    "#drop columns\n",
    "data.drop(['Unnamed: 0','asin','unixTime'], axis=1, inplace= True)\n",
    "data.head()"
   ]
  },
  {
   "cell_type": "code",
   "execution_count": 13,
   "metadata": {},
   "outputs": [
    {
     "data": {
      "text/plain": [
       "<matplotlib.axes._subplots.AxesSubplot at 0x1e969ea97f0>"
      ]
     },
     "execution_count": 13,
     "metadata": {},
     "output_type": "execute_result"
    },
    {
     "data": {
      "image/png": "[encoded data removed]",
      "text/plain": [
       "<Figure size 432x288 with 1 Axes>"
      ]
     },
     "metadata": {
      "needs_background": "light"
     },
     "output_type": "display_data"
    }
   ],
   "source": [
    "import seaborn as sns\n",
    "import matplotlib.pyplot as plt\n",
    "\n",
    "sns.countplot(x=\"questionType\" , data = data)"
   ]
  },
  {
   "cell_type": "code",
   "execution_count": 14,
   "metadata": {},
   "outputs": [
    {
     "data": {
      "text/plain": [
       "<matplotlib.axes._subplots.AxesSubplot at 0x1e947526828>"
      ]
     },
     "execution_count": 14,
     "metadata": {},
     "output_type": "execute_result"
    },
    {
     "data": {
      "image/png": "[encoded data removed]",
      "text/plain": [
       "<Figure size 432x288 with 1 Axes>"
      ]
     },
     "metadata": {
      "needs_background": "light"
     },
     "output_type": "display_data"
    }
   ],
   "source": [
    "#problem ? type of category around 80000 , nan has 148665 \n",
    "sns.countplot(x=\"answerType\" , data = data, palette = \"hls\")  "
   ]
  },
  {
   "cell_type": "code",
   "execution_count": 11,
   "metadata": {},
   "outputs": [
    {
     "name": "stdout",
     "output_type": "stream",
     "text": [
      "yes this fits both the nook color and the same shaped nook tablet   no  the nook color or color tablet   i don t think so  the nook color is 5 x 8 so not sure anything smaller would stay locked in  but would be close   yes   no  the tab is smaller than the  color   no  there is not a flip stand  it has a pocket in the front flap  it is a very nice cover   hi  no it doesn t   it should  they are the same size and the charging port is in the same place   yes   no  it is more like a normal book wo\n"
     ]
    }
   ],
   "source": [
    "#------Sentimate analysis worldcloud---\n",
    "t= []\n",
    "for i in range(len(data['answer'])):\n",
    "    t.append(data.iloc[i,0])\n",
    "    #print(i)\n",
    "answer = str(t)"
   ]
  },
  {
   "cell_type": "code",
   "execution_count": null,
   "metadata": {},
   "outputs": [],
   "source": [
    "# Cleaning our text , convert into lower text\n",
    "import re\n",
    "answer = re.sub(\"[^A-Za-z0-9\\n \" \"]+\",\" \",answer)\n",
    "answer = answer.lower()\n",
    "print(answer[1:500])"
   ]
  },
  {
   "cell_type": "code",
   "execution_count": 12,
   "metadata": {},
   "outputs": [],
   "source": [
    "import nltk\n",
    "from nltk.corpus import stopwords\n",
    "from wordcloud import WordCloud\n",
    "\n",
    "#nltk.download('stopwords')\n",
    "with open(\"stopwords.txt\",\"r\") as sw:\n",
    "    stopwords = sw.read()\n",
    "stopwords = stopwords.split(\"\\n\")\n",
    "\n",
    "answer = answer.split(\" \")\n",
    "new_answer = [w for w in answer if not w in stopwords] \n",
    "\n",
    "# Joinining all the answer into single \n",
    "new_answer = \" \".join(new_answer)\n",
    "\n",
    "# remaining to here also we lemitization/stemming "
   ]
  },
  {
   "cell_type": "code",
   "execution_count": 19,
   "metadata": {},
   "outputs": [
    {
     "data": {
      "text/plain": [
       "<matplotlib.image.AxesImage at 0x1e90b9712e8>"
      ]
     },
     "execution_count": 19,
     "metadata": {},
     "output_type": "execute_result"
    },
    {
     "data": {
      "image/png": "[encoded data removed]",
      "text/plain": [
       "<Figure size 432x288 with 1 Axes>"
      ]
     },
     "metadata": {
      "needs_background": "light"
     },
     "output_type": "display_data"
    }
   ],
   "source": [
    "wordcloud_ip = WordCloud(\n",
    "                      background_color='white',\n",
    "                      width=1800,\n",
    "                      height=1400\n",
    "                     ).generate(new_answer)\n",
    "plt.imshow(wordcloud_ip)\n",
    "\n",
    "# Those word in world cloud find in answer.txt file we get actual problem of that device\n",
    "# for eg : camera  \n",
    "#=> the device does not have a camera\n",
    "#=> My tablet was listed as new but i did not receive any cover or the second cord. It 's a great tablet but i felt deceived by the picture. I hope this answer helps. But realize i am only one of many customers and i can 't speak for what other customers received.\", 'Yes it came with the power cord the wall adapter and instructions. It has been a wonderful gift for my mom!! Nook is AMAZING!!', 'Hello. Have you tried charging it for a few hours? After there is enough power built up to function, you can use the Nook while it is plugged in and charging. If the battery does not have enough charge, it will just light up briefly and shut off. Hope this helps.', \"It not slow. It is your internet that's slow.\", \"Special charger! Which it should come with if u buy used don't buy it if it doesn't have it. But if it does and it's in great shape I defiantly recommend it I love mine!\", \"The Nook isn't compatable with Skype, as it lacks both rear and front facing cameras\n",
    "#=> the operating system would need to have an appropriate driver to run the camera"
   ]
  },
  {
   "cell_type": "code",
   "execution_count": 20,
   "metadata": {},
   "outputs": [],
   "source": [
    "with open(\"answer.txt\",\"w\",encoding='utf8') as output:\n",
    "    output.write(str(answer))"
   ]
  },
  {
   "cell_type": "code",
   "execution_count": null,
   "metadata": {},
   "outputs": [],
   "source": [
    "# same analysis also do for Question-type columns "
   ]
  }
 ],
 "metadata": {
  "kernelspec": {
   "display_name": "Python 3",
   "language": "python",
   "name": "python3"
  },
  "language_info": {
   "codemirror_mode": {
    "name": "ipython",
    "version": 3
   },
   "file_extension": ".py",
   "mimetype": "text/x-python",
   "name": "python",
   "nbconvert_exporter": "python",
   "pygments_lexer": "ipython3",
   "version": "3.7.3"
  }
 },
 "nbformat": 4,
 "nbformat_minor": 2
}
